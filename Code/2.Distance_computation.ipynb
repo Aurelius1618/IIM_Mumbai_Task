{
 "cells": [
  {
   "cell_type": "code",
   "execution_count": 1,
   "metadata": {},
   "outputs": [],
   "source": [
    "import pandas as pd\n",
    "import numpy as np\n",
    "from haversine import Unit\n",
    "from haversine import haversine as hs\n"
   ]
  },
  {
   "cell_type": "code",
   "execution_count": 2,
   "metadata": {},
   "outputs": [],
   "source": [
    "### filepaths\n",
    "primary_facility_path = '../Data/Primary_Facility_50.csv'\n",
    "secondary_facility_path = '../Data/Secondary_Facility_500.csv'\n",
    "supplier_path = '../Data/Supplier.csv'\n",
    "demand_path = '../ResearchData/1.Demand_Distribution.csv'\n",
    "distance_path = '../Data/DISTANCE_DICT_VP50_VQ_500.pkl'"
   ]
  },
  {
   "cell_type": "code",
   "execution_count": 3,
   "metadata": {},
   "outputs": [],
   "source": [
    "demand_df = pd.read_csv(demand_path)\n",
    "if demand_df.isna().sum().sum()!=0:\n",
    "    print('ERROR!!!')"
   ]
  },
  {
   "cell_type": "code",
   "execution_count": 4,
   "metadata": {},
   "outputs": [],
   "source": [
    "DEMAND = tuple(demand_df['Demand'])\n",
    "CUSTOMER = tuple(demand_df['Index'])\n",
    "\n",
    "DEMAND_DICT = dict(zip(CUSTOMER, DEMAND))\n",
    "\n",
    "q_df = pd.read_csv(secondary_facility_path)\n",
    "p_df = pd.read_csv(primary_facility_path)\n",
    "s_df = pd.read_csv(supplier_path)\n",
    "\n",
    "\n",
    "q_df['Index'] = q_df.index\n",
    "s_df['Index'] = s_df.index\n",
    "p_df['Index'] = p_df.index\n",
    "demand_df['Index'] = demand_df.index"
   ]
  },
  {
   "cell_type": "code",
   "execution_count": 5,
   "metadata": {},
   "outputs": [],
   "source": [
    "DISTANCE_DICT = {}\n",
    "DISTANCE_DICT['SP'] = {}\n",
    "DISTANCE_DICT.update({'PQ' : {}, 'PP_' : {}, 'QK' : {}})"
   ]
  },
  {
   "cell_type": "code",
   "execution_count": 6,
   "metadata": {},
   "outputs": [
    {
     "name": "stdout",
     "output_type": "stream",
     "text": [
      "CPU times: total: 0 ns\n",
      "Wall time: 36 ms\n"
     ]
    }
   ],
   "source": [
    "%%time\n",
    "### DISTANCE BETWEEN P and P_ and vice-versa\n",
    "\n",
    "for i in range(len(p_df)):\n",
    "    for j in range(i + 1, len(p_df)):\n",
    "        dist = hs((p_df.at[i, 'Latitude'], p_df.at[i, 'Longitude']), (p_df.at[j, 'Latitude'], p_df.at[j, 'Longitude']), unit='mi')\n",
    "        DISTANCE_DICT['PP_'].update({f'XPP_{i}_{j}' : dist, f'XPP_{j}_{i}' : dist})"
   ]
  },
  {
   "cell_type": "code",
   "execution_count": 7,
   "metadata": {},
   "outputs": [
    {
     "name": "stdout",
     "output_type": "stream",
     "text": [
      "CPU times: total: 0 ns\n",
      "Wall time: 8.01 ms\n"
     ]
    }
   ],
   "source": [
    "%%time\n",
    "### DISTANCE BETWEEN S and P\n",
    "\n",
    "for i in range(len(s_df)):\n",
    "    for j in range(len(p_df)):\n",
    "        dist = hs((s_df.at[i, 'Latitude'], s_df.at[i, 'Longitude']), (p_df.at[j, 'Latitude'], p_df.at[j, 'Longitude']), unit='mi')\n",
    "        DISTANCE_DICT['SP'].update({f'XSP_{i}_{j}' : dist})"
   ]
  },
  {
   "cell_type": "code",
   "execution_count": 8,
   "metadata": {},
   "outputs": [
    {
     "name": "stdout",
     "output_type": "stream",
     "text": [
      "CPU times: total: 172 ms\n",
      "Wall time: 629 ms\n"
     ]
    }
   ],
   "source": [
    "%%time\n",
    "### DISTANCE BETWEEN P and Q\n",
    "\n",
    "for i in range(len(p_df)):\n",
    "    for j in range(len(q_df)):\n",
    "        dist = hs((p_df.at[i, 'Latitude'], p_df.at[i, 'Longitude']), (q_df.at[j, 'Latitude'], q_df.at[j, 'Longitude']), unit='mi')\n",
    "        DISTANCE_DICT['PQ'].update({f'XPQ_{i}_{j}' : dist})"
   ]
  },
  {
   "cell_type": "code",
   "execution_count": 9,
   "metadata": {},
   "outputs": [
    {
     "name": "stdout",
     "output_type": "stream",
     "text": [
      "CPU times: total: 1.8 s\n",
      "Wall time: 4.6 s\n"
     ]
    }
   ],
   "source": [
    "%%time\n",
    "### DISTANCE BETWEEN Q and K\n",
    "\n",
    "for i in range(len(q_df)):\n",
    "    for j in range(len(demand_df)):\n",
    "        dist = hs((q_df.at[i, 'Latitude'], q_df.at[i, 'Longitude']), (demand_df.at[j, 'Latitude'], demand_df.at[j, 'Longitude']), unit='mi')\n",
    "        DISTANCE_DICT['QK'].update({f'XQK_{i}_{j}' : dist})"
   ]
  },
  {
   "cell_type": "code",
   "execution_count": 10,
   "metadata": {},
   "outputs": [],
   "source": [
    "import pickle\n",
    "\n",
    "with open(distance_path, 'wb') as fp:\n",
    "    pickle.dump(DISTANCE_DICT, fp) "
   ]
  },
  {
   "cell_type": "code",
   "execution_count": 11,
   "metadata": {},
   "outputs": [
    {
     "data": {
      "text/plain": [
       "{'XSP_0_0': 394.69163371987696,\n",
       " 'XSP_0_1': 1287.515212605313,\n",
       " 'XSP_0_2': 254.37726566209741,\n",
       " 'XSP_0_3': 1216.8218746397035,\n",
       " 'XSP_0_4': 725.9455094850379,\n",
       " 'XSP_0_5': 1113.2368190983375,\n",
       " 'XSP_0_6': 524.6067351741984,\n",
       " 'XSP_0_7': 1560.5636961434277,\n",
       " 'XSP_0_8': 1186.362528146304,\n",
       " 'XSP_0_9': 346.9621945769881,\n",
       " 'XSP_0_10': 561.7552950885027,\n",
       " 'XSP_0_11': 1222.0835606061341,\n",
       " 'XSP_0_12': 1260.197752691059,\n",
       " 'XSP_0_13': 1069.3681417111825,\n",
       " 'XSP_0_14': 1703.864758045129,\n",
       " 'XSP_0_15': 790.5805506864531,\n",
       " 'XSP_0_16': 662.7564856888984,\n",
       " 'XSP_0_17': 1566.1939431636883,\n",
       " 'XSP_0_18': 1359.2490755042818,\n",
       " 'XSP_0_19': 895.3573125186635,\n",
       " 'XSP_0_20': 1700.6439298474902,\n",
       " 'XSP_0_21': 881.7715835613891,\n",
       " 'XSP_0_22': 1056.8482591042698,\n",
       " 'XSP_0_23': 1541.1048786818685,\n",
       " 'XSP_0_24': 937.8939513614035,\n",
       " 'XSP_0_25': 1235.0073277034633,\n",
       " 'XSP_0_26': 1010.6411440234225,\n",
       " 'XSP_0_27': 1726.1385126539349,\n",
       " 'XSP_0_28': 1400.6433263329418,\n",
       " 'XSP_0_29': 1766.7422921016089,\n",
       " 'XSP_0_30': 399.44883548510916,\n",
       " 'XSP_0_31': 936.6060488558064,\n",
       " 'XSP_0_32': 820.2588883699916,\n",
       " 'XSP_0_33': 240.19928172583047,\n",
       " 'XSP_0_34': 651.3816629286688,\n",
       " 'XSP_0_35': 1231.6974770672093,\n",
       " 'XSP_0_36': 735.872930194413,\n",
       " 'XSP_0_37': 891.4590746509211,\n",
       " 'XSP_0_38': 1215.9875070145292,\n",
       " 'XSP_0_39': 1409.5694202833827,\n",
       " 'XSP_0_40': 1067.3593342190986,\n",
       " 'XSP_0_41': 1712.6516837440752,\n",
       " 'XSP_0_42': 1431.6539262236251,\n",
       " 'XSP_0_43': 587.451273978815,\n",
       " 'XSP_0_44': 229.10553402770321,\n",
       " 'XSP_0_45': 1578.0901832848783,\n",
       " 'XSP_0_46': 674.4284784462656,\n",
       " 'XSP_0_47': 830.0458223412592,\n",
       " 'XSP_0_48': 1382.6025376431965,\n",
       " 'XSP_0_49': 574.2150129680405}"
      ]
     },
     "execution_count": 11,
     "metadata": {},
     "output_type": "execute_result"
    }
   ],
   "source": [
    "DISTANCE_DICT['SP']"
   ]
  },
  {
   "cell_type": "code",
   "execution_count": null,
   "metadata": {},
   "outputs": [],
   "source": []
  }
 ],
 "metadata": {
  "kernelspec": {
   "display_name": "Python 3",
   "language": "python",
   "name": "python3"
  },
  "language_info": {
   "codemirror_mode": {
    "name": "ipython",
    "version": 3
   },
   "file_extension": ".py",
   "mimetype": "text/x-python",
   "name": "python",
   "nbconvert_exporter": "python",
   "pygments_lexer": "ipython3",
   "version": "3.11.0"
  },
  "orig_nbformat": 4
 },
 "nbformat": 4,
 "nbformat_minor": 2
}
