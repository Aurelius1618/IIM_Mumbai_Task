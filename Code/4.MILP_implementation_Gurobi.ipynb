{
 "cells": [
  {
   "cell_type": "code",
   "execution_count": 1,
   "metadata": {},
   "outputs": [],
   "source": [
    "import pandas as pd\n",
    "import gurobipy as grb\n",
    "from gurobipy import GRB\n",
    "import pickle"
   ]
  },
  {
   "cell_type": "code",
   "execution_count": 2,
   "metadata": {},
   "outputs": [],
   "source": [
    "### filepaths\n",
    "primary_facility_path = '../Data/Primary_Facility_50.csv'\n",
    "secondary_facility_path = '../Data/Secondary_Facility_500.csv'\n",
    "supplier_path = '../Data/Supplier.csv'\n",
    "demand_path = '../ResearchData/1.Demand_Distribution.csv'\n",
    "distance_path = '../Data/DISTANCE_DICT_VP50_VQ_500.pkl'"
   ]
  },
  {
   "cell_type": "code",
   "execution_count": 3,
   "metadata": {},
   "outputs": [],
   "source": [
    "# fetch input data\n",
    "p_df = pd.read_csv(primary_facility_path)\n",
    "q_df = pd.read_csv(secondary_facility_path)\n",
    "s_df = pd.read_csv(supplier_path)\n",
    "demand_df = pd.read_csv(demand_path)\n",
    "\n",
    "q_df['Index'] = q_df.index\n",
    "s_df['Index'] = s_df.index\n",
    "p_df['Index'] = p_df.index\n",
    "demand_df['Index'] = demand_df.index\n",
    "\n",
    "with open(distance_path, 'rb') as fp:\n",
    "    DISTANCE_DICT = pickle.load(fp) "
   ]
  },
  {
   "cell_type": "code",
   "execution_count": 4,
   "metadata": {},
   "outputs": [],
   "source": [
    "## SETS\n",
    "PRIMARY_FACILITY = tuple(p_df['Index'])\n",
    "SECONDARY_FACILITY =  tuple(q_df['Index'])\n",
    "CUSTOMER = tuple(demand_df['Index'])\n",
    "SUPPLIER = tuple(s_df['Index'])\n"
   ]
  },
  {
   "cell_type": "code",
   "execution_count": 5,
   "metadata": {},
   "outputs": [],
   "source": [
    "## VARIABLES\n",
    "SUPPLIER_TO_PRIMARY = 'Xsp'\n",
    "PRIMARY_TO_SECONDARY = 'Ypq'\n",
    "PRIMARY_TO_PRIMARY = 'Tpp'\n",
    "SECONDARY_TO_CUSTOMER = 'Zqk'\n",
    "FACILITY = 'G'\n",
    "\n"
   ]
  },
  {
   "cell_type": "code",
   "execution_count": 6,
   "metadata": {},
   "outputs": [],
   "source": [
    "## PARAMETERS\n",
    "DEMAND = tuple(demand_df['Demand'])\n",
    "DISTANCE = DISTANCE_DICT\n",
    "\n",
    "FIXED_COST_PRIMARY = 250000\n",
    "FIXED_COST_SECONDARY = 0.035\n",
    "PACKAGING_COST_PRIMARY = 25000\n",
    "PACKAGING_COST_SECONDARY = 0.140\n",
    "\n",
    "R_PRIMARY = 2\n",
    "R_SECONDARY = 50\n",
    "C_SUPPLIER = 0.0006\n",
    "C_PRIMARY = 0.0024\n",
    "C_CUSTOMER = 0.012\n",
    "\n"
   ]
  },
  {
   "cell_type": "code",
   "execution_count": 7,
   "metadata": {},
   "outputs": [],
   "source": [
    "DEMAND_DICT = dict(zip(CUSTOMER, DEMAND))"
   ]
  },
  {
   "cell_type": "code",
   "execution_count": 8,
   "metadata": {},
   "outputs": [
    {
     "name": "stdout",
     "output_type": "stream",
     "text": [
      "Restricted license - for non-production use only - expires 2026-11-23\n"
     ]
    }
   ],
   "source": [
    "# model\n",
    "model = grb.Model(\"MILP\")"
   ]
  },
  {
   "cell_type": "code",
   "execution_count": 9,
   "metadata": {},
   "outputs": [],
   "source": [
    "# Define decision variables\n",
    "Xsp_var = {(s, p): model.addVar(vtype=GRB.CONTINUOUS, lb=0, name=SUPPLIER_TO_PRIMARY + str(s) + '_' + str(p)) for s in SUPPLIER for p in PRIMARY_FACILITY}\n",
    "\n",
    "Ypq_var = {(p, q): model.addVar(vtype=GRB.CONTINUOUS, lb=0, name=PRIMARY_TO_SECONDARY + str(p) + '_' + str(q)) for p in PRIMARY_FACILITY for q in SECONDARY_FACILITY}\n",
    "\n",
    "Tpp_var = {(p1, p2): model.addVar(vtype=GRB.CONTINUOUS, lb=0, name=PRIMARY_TO_PRIMARY + str(p1) + '_' + str(p2)) for p1 in PRIMARY_FACILITY for p2 in set(PRIMARY_FACILITY) - set([p1])}\n",
    "\n",
    "Zqk_var = {(q, k): model.addVar(vtype=GRB.CONTINUOUS, lb=0, name=SECONDARY_TO_CUSTOMER + str(q) + '_' + str(k)) for q in SECONDARY_FACILITY for k in CUSTOMER}\n",
    "\n",
    "G_var = {('p', p): model.addVar(vtype=grb.GRB.BINARY, name=FACILITY + 'p_' + str(p)) for p in PRIMARY_FACILITY}\n",
    "G_var.update({('q', q): model.addVar(vtype=grb.GRB.BINARY, name=FACILITY + 'q_' + str(q)) for q in SECONDARY_FACILITY})\n",
    "\n",
    "# L = model.addVar(vtype=GRB.CONTINUOUS, name=\"L\")\n",
    "L = 2"
   ]
  },
  {
   "cell_type": "code",
   "execution_count": 10,
   "metadata": {},
   "outputs": [
    {
     "data": {
      "text/plain": [
       "<gurobi.Constr *Awaiting Model Update*>"
      ]
     },
     "execution_count": 10,
     "metadata": {},
     "output_type": "execute_result"
    }
   ],
   "source": [
    "## Add constraints for R_P and R_Q\n",
    "model.addConstr(grb.quicksum(G_var[('p', p)] for p in PRIMARY_FACILITY) == R_PRIMARY)\n",
    "model.addConstr(grb.quicksum(G_var[('q', q)] for q in SECONDARY_FACILITY) == R_SECONDARY)\n"
   ]
  },
  {
   "cell_type": "code",
   "execution_count": 11,
   "metadata": {},
   "outputs": [],
   "source": [
    "for p in PRIMARY_FACILITY:\n",
    "    model.addConstr(grb.quicksum(Xsp_var[(s, p)] for s in SUPPLIER) <= grb.quicksum(DEMAND_DICT[k] * G_var[('p', p)] for k in CUSTOMER))\n",
    "    model.addConstr(grb.quicksum(Ypq_var[(p, q)] for q in SECONDARY_FACILITY) <= grb.quicksum(DEMAND_DICT[k] * G_var[('p', p)] for k in CUSTOMER))\n",
    "\n",
    "for q in SECONDARY_FACILITY:\n",
    "    model.addConstr(grb.quicksum(Ypq_var[(p, q)] for p in PRIMARY_FACILITY) <= grb.quicksum(DEMAND_DICT[k] * G_var[('q', q)] for k in CUSTOMER))\n",
    "    model.addConstr(grb.quicksum(Zqk_var[(q, k)] for k in CUSTOMER) <= grb.quicksum(DEMAND_DICT[k] * G_var[('q', q)] for k in CUSTOMER))\n",
    "    "
   ]
  },
  {
   "cell_type": "code",
   "execution_count": 12,
   "metadata": {},
   "outputs": [],
   "source": [
    "for p in PRIMARY_FACILITY:\n",
    "    model.addConstr(grb.quicksum(Tpp_var[(p, p_)] for p_ in set(PRIMARY_FACILITY)-set([p])) <= grb.quicksum(DEMAND_DICT[k] * G_var[('p', p)] for k in CUSTOMER))\n",
    "\n",
    "for p_ in PRIMARY_FACILITY:\n",
    "    model.addConstr(grb.quicksum(Tpp_var[(p, p_)] for p in set(PRIMARY_FACILITY)-set([p_])) <= grb.quicksum(DEMAND_DICT[k] * G_var[('p', p)] for k in CUSTOMER))\n"
   ]
  },
  {
   "cell_type": "code",
   "execution_count": 13,
   "metadata": {},
   "outputs": [],
   "source": [
    "for p in PRIMARY_FACILITY:\n",
    "    model.addConstr(grb.quicksum(Xsp_var[(s, p)] for s in SUPPLIER) + grb.quicksum(Tpp_var[(p_, p)] for p_ in set(PRIMARY_FACILITY)-set([p])) == grb.quicksum(Ypq_var[(p, q)] for q in SECONDARY_FACILITY) + grb.quicksum(Tpp_var[(p, p_)] for p_ in set(PRIMARY_FACILITY)-set([p])))"
   ]
  },
  {
   "cell_type": "code",
   "execution_count": 14,
   "metadata": {},
   "outputs": [],
   "source": [
    "for q in SECONDARY_FACILITY:\n",
    "    model.addConstr(grb.quicksum(Ypq_var[(p, q)] for p in PRIMARY_FACILITY) == grb.quicksum(Zqk_var[(q, k)] for k in CUSTOMER))"
   ]
  },
  {
   "cell_type": "code",
   "execution_count": 15,
   "metadata": {},
   "outputs": [],
   "source": [
    "for p in PRIMARY_FACILITY:\n",
    "    model.addConstr(grb.quicksum(Tpp_var[(p_, p)] for p_ in set(PRIMARY_FACILITY)-set([p])) == L * grb.quicksum(Ypq_var[(p, q)] for q in SECONDARY_FACILITY))"
   ]
  },
  {
   "cell_type": "code",
   "execution_count": 16,
   "metadata": {},
   "outputs": [],
   "source": [
    "for k in CUSTOMER:\n",
    "    model.addConstr(grb.quicksum(Zqk_var[(q, k)] for q in SECONDARY_FACILITY) == DEMAND_DICT[k])"
   ]
  },
  {
   "cell_type": "code",
   "execution_count": 17,
   "metadata": {},
   "outputs": [
    {
     "name": "stdout",
     "output_type": "stream",
     "text": [
      "Set parameter Method to value 0\n"
     ]
    }
   ],
   "source": [
    "model.ModelSense = GRB.MINIMIZE\n",
    "# model.setParam(GRB.Param.PoolSolutions, 100)\n",
    "model.setParam('Method', 0) \n"
   ]
  },
  {
   "cell_type": "code",
   "execution_count": 18,
   "metadata": {},
   "outputs": [],
   "source": [
    "# Assuming 'model' is your Gurobi model\n",
    "# constraints = model.getConstrs()\n",
    "# constraints"
   ]
  },
  {
   "cell_type": "code",
   "execution_count": 19,
   "metadata": {},
   "outputs": [],
   "source": [
    "objective = grb.quicksum(C_SUPPLIER * DISTANCE_DICT['SP'][f'XSP_{s}_{p}'] * Xsp_var[(s, p)] for s in SUPPLIER for p in PRIMARY_FACILITY) + \\\n",
    "                grb.quicksum(C_PRIMARY * DISTANCE_DICT['PQ'][f'XPQ_{p}_{q}'] * Ypq_var[(p, q)] for p in PRIMARY_FACILITY for q in SECONDARY_FACILITY) + \\\n",
    "                grb.quicksum(C_PRIMARY * DISTANCE_DICT['PP_'][f'XPP_{p}_{p_}'] * Tpp_var[(p, p_)] for p in PRIMARY_FACILITY for p_ in set(PRIMARY_FACILITY)-set([p])) + \\\n",
    "                grb.quicksum(C_CUSTOMER * DISTANCE_DICT['QK'][f'XQK_{q}_{k}'] * Zqk_var[(q, k)] for q in SECONDARY_FACILITY for k in CUSTOMER) + \\\n",
    "                grb.quicksum(FIXED_COST_PRIMARY * G_var[('p', p)] for p in PRIMARY_FACILITY) + \\\n",
    "                grb.quicksum(FIXED_COST_SECONDARY * G_var[('q', q)] for q in SECONDARY_FACILITY) + \\\n",
    "                grb.quicksum(PACKAGING_COST_PRIMARY * (grb.quicksum(Ypq_var[(p, q)] for q in SECONDARY_FACILITY) + grb.quicksum(Tpp_var[(p, p_)] for p_ in set(PRIMARY_FACILITY)-set([p]))) for p in PRIMARY_FACILITY) + \\\n",
    "                grb.quicksum(PACKAGING_COST_SECONDARY * (grb.quicksum(Zqk_var[(q, k)] for k in CUSTOMER)) for q in SECONDARY_FACILITY)\n",
    "\n",
    "            "
   ]
  },
  {
   "cell_type": "code",
   "execution_count": 20,
   "metadata": {},
   "outputs": [],
   "source": [
    "model.setObjectiveN(objective, 100)\n"
   ]
  },
  {
   "cell_type": "code",
   "execution_count": 21,
   "metadata": {},
   "outputs": [],
   "source": [
    "model.write('../gurobi_exps/MILP_gurobi.lp')\n"
   ]
  },
  {
   "cell_type": "code",
   "execution_count": 22,
   "metadata": {},
   "outputs": [
    {
     "name": "stdout",
     "output_type": "stream",
     "text": [
      "2173 213550\n"
     ]
    }
   ],
   "source": [
    "# Get the number of variables\n",
    "num_variables = len(model.getVars())\n",
    "\n",
    "# Get the number of constraints\n",
    "num_constraints = len(model.getConstrs())\n",
    "\n",
    "print(num_constraints, num_variables)"
   ]
  },
  {
   "cell_type": "code",
   "execution_count": 23,
   "metadata": {},
   "outputs": [],
   "source": [
    "# Var : 213550\n",
    "# Constraints : 2173"
   ]
  },
  {
   "cell_type": "code",
   "execution_count": 24,
   "metadata": {},
   "outputs": [
    {
     "name": "stdout",
     "output_type": "stream",
     "text": [
      "Gurobi Optimizer version 12.0.1 build v12.0.1rc0 (win64 - Windows 11.0 (22631.2))\n",
      "\n",
      "CPU model: AMD Ryzen 7 6800H with Radeon Graphics, instruction set [SSE2|AVX|AVX2]\n",
      "Thread count: 8 physical cores, 16 logical processors, using up to 16 threads\n",
      "\n",
      "Non-default parameters:\n",
      "Method  0\n",
      "\n"
     ]
    },
    {
     "ename": "GurobiError",
     "evalue": "Model too large for size-limited license; visit https://gurobi.com/unrestricted for more information",
     "output_type": "error",
     "traceback": [
      "\u001b[1;31m---------------------------------------------------------------------------\u001b[0m",
      "\u001b[1;31mGurobiError\u001b[0m                               Traceback (most recent call last)",
      "Cell \u001b[1;32mIn[24], line 1\u001b[0m\n\u001b[1;32m----> 1\u001b[0m \u001b[43mmodel\u001b[49m\u001b[38;5;241;43m.\u001b[39;49m\u001b[43moptimize\u001b[49m\u001b[43m(\u001b[49m\u001b[43m)\u001b[49m\n",
      "File \u001b[1;32msrc\\\\gurobipy\\\\_model.pyx:903\u001b[0m, in \u001b[0;36mgurobipy._model.Model.optimize\u001b[1;34m()\u001b[0m\n",
      "\u001b[1;31mGurobiError\u001b[0m: Model too large for size-limited license; visit https://gurobi.com/unrestricted for more information"
     ]
    }
   ],
   "source": [
    "model.optimize()"
   ]
  },
  {
   "cell_type": "code",
   "execution_count": null,
   "metadata": {},
   "outputs": [],
   "source": []
  }
 ],
 "metadata": {
  "kernelspec": {
   "display_name": "Python 3",
   "language": "python",
   "name": "python3"
  },
  "language_info": {
   "codemirror_mode": {
    "name": "ipython",
    "version": 3
   },
   "file_extension": ".py",
   "mimetype": "text/x-python",
   "name": "python",
   "nbconvert_exporter": "python",
   "pygments_lexer": "ipython3",
   "version": "3.11.0"
  },
  "orig_nbformat": 4
 },
 "nbformat": 4,
 "nbformat_minor": 2
}
